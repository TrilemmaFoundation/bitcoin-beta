{
 "cells": [
  {
   "cell_type": "markdown",
   "id": "e4e6d7ed-b9ac-4706-bc5c-9a3d80c3e7bd",
   "metadata": {},
   "source": [
    "# Imports"
   ]
  },
  {
   "cell_type": "code",
   "execution_count": 2,
   "id": "1de5573b-2c95-445e-a058-d5e31487d5f3",
   "metadata": {},
   "outputs": [],
   "source": [
    "import pandas as pd\n",
    "import numpy as np\n",
    "\n",
    "from datetime import datetime\n",
    "\n",
    "from coinmetrics.api_client import CoinMetricsClient\n",
    "import logging\n",
    "\n",
    "import yfinance as yf\n",
    "\n",
    "from statsmodels.tsa.stattools import adfuller\n",
    "from statsmodels.stats.stattools import durbin_watson\n",
    "import statsmodels.api as sm"
   ]
  },
  {
   "cell_type": "markdown",
   "id": "2b95b890-9405-4e69-950c-d544250c1a12",
   "metadata": {},
   "source": [
    "# Get Data"
   ]
  },
  {
   "cell_type": "markdown",
   "id": "d3602edf-cbf2-46dd-979d-234a1d7bb689",
   "metadata": {},
   "source": [
    "## Get Bitcoin"
   ]
  },
  {
   "cell_type": "code",
   "execution_count": 5,
   "id": "ccf221ac-2481-4080-b938-6b1f76fb22a5",
   "metadata": {},
   "outputs": [
    {
     "name": "stderr",
     "output_type": "stream",
     "text": [
      "2025-01-27 09:09:32 INFO     Fetching BTC PriceUSD...\n",
      "2025-01-27 09:09:34 INFO     Sleeping for a rate limit window because 429 (too many requests) error was returned. Pleasesee Coin Metrics APIV4 documentation for more information: https://docs.coinmetrics.io/api/v4/#tag/Rate-limits\n",
      "2025-01-27 09:09:41 INFO     Sleeping for a rate limit window because 429 (too many requests) error was returned. Pleasesee Coin Metrics APIV4 documentation for more information: https://docs.coinmetrics.io/api/v4/#tag/Rate-limits\n",
      "2025-01-27 09:09:49 INFO     Sleeping for a rate limit window because 429 (too many requests) error was returned. Pleasesee Coin Metrics APIV4 documentation for more information: https://docs.coinmetrics.io/api/v4/#tag/Rate-limits\n"
     ]
    },
    {
     "name": "stdout",
     "output_type": "stream",
     "text": [
      "<class 'pandas.core.frame.DataFrame'>\n",
      "DatetimeIndex: 5307 entries, 2010-07-18 to 2025-01-26\n",
      "Data columns (total 1 columns):\n",
      " #   Column    Non-Null Count  Dtype  \n",
      "---  ------    --------------  -----  \n",
      " 0   PriceUSD  5307 non-null   Float64\n",
      "dtypes: Float64(1)\n",
      "memory usage: 88.1 KB\n"
     ]
    },
    {
     "data": {
      "text/html": [
       "<div>\n",
       "<style scoped>\n",
       "    .dataframe tbody tr th:only-of-type {\n",
       "        vertical-align: middle;\n",
       "    }\n",
       "\n",
       "    .dataframe tbody tr th {\n",
       "        vertical-align: top;\n",
       "    }\n",
       "\n",
       "    .dataframe thead th {\n",
       "        text-align: right;\n",
       "    }\n",
       "</style>\n",
       "<table border=\"1\" class=\"dataframe\">\n",
       "  <thead>\n",
       "    <tr style=\"text-align: right;\">\n",
       "      <th></th>\n",
       "      <th>PriceUSD</th>\n",
       "    </tr>\n",
       "    <tr>\n",
       "      <th>time</th>\n",
       "      <th></th>\n",
       "    </tr>\n",
       "  </thead>\n",
       "  <tbody>\n",
       "    <tr>\n",
       "      <th>2010-07-18</th>\n",
       "      <td>0.08584</td>\n",
       "    </tr>\n",
       "    <tr>\n",
       "      <th>2010-07-19</th>\n",
       "      <td>0.0808</td>\n",
       "    </tr>\n",
       "    <tr>\n",
       "      <th>2010-07-20</th>\n",
       "      <td>0.074736</td>\n",
       "    </tr>\n",
       "    <tr>\n",
       "      <th>2010-07-21</th>\n",
       "      <td>0.079193</td>\n",
       "    </tr>\n",
       "    <tr>\n",
       "      <th>2010-07-22</th>\n",
       "      <td>0.05847</td>\n",
       "    </tr>\n",
       "    <tr>\n",
       "      <th>...</th>\n",
       "      <td>...</td>\n",
       "    </tr>\n",
       "    <tr>\n",
       "      <th>2025-01-22</th>\n",
       "      <td>103791.128861</td>\n",
       "    </tr>\n",
       "    <tr>\n",
       "      <th>2025-01-23</th>\n",
       "      <td>104184.616744</td>\n",
       "    </tr>\n",
       "    <tr>\n",
       "      <th>2025-01-24</th>\n",
       "      <td>104716.124882</td>\n",
       "    </tr>\n",
       "    <tr>\n",
       "      <th>2025-01-25</th>\n",
       "      <td>104866.085349</td>\n",
       "    </tr>\n",
       "    <tr>\n",
       "      <th>2025-01-26</th>\n",
       "      <td>102833.369273</td>\n",
       "    </tr>\n",
       "  </tbody>\n",
       "</table>\n",
       "<p>5307 rows × 1 columns</p>\n",
       "</div>"
      ],
      "text/plain": [
       "                 PriceUSD\n",
       "time                     \n",
       "2010-07-18        0.08584\n",
       "2010-07-19         0.0808\n",
       "2010-07-20       0.074736\n",
       "2010-07-21       0.079193\n",
       "2010-07-22        0.05847\n",
       "...                   ...\n",
       "2025-01-22  103791.128861\n",
       "2025-01-23  104184.616744\n",
       "2025-01-24  104716.124882\n",
       "2025-01-25  104866.085349\n",
       "2025-01-26  102833.369273\n",
       "\n",
       "[5307 rows x 1 columns]"
      ]
     },
     "execution_count": 5,
     "metadata": {},
     "output_type": "execute_result"
    }
   ],
   "source": [
    "# Configure logging\n",
    "logging.basicConfig(\n",
    "    format='%(asctime)s %(levelname)-8s %(message)s',\n",
    "    level=logging.INFO,\n",
    "    datefmt='%Y-%m-%d %H:%M:%S'\n",
    ")\n",
    "\n",
    "# Initialize Coin Metrics API client\n",
    "client = CoinMetricsClient()\n",
    "\n",
    "# Define the asset, metric, and time range\n",
    "asset = 'btc'\n",
    "metric = 'PriceUSD'\n",
    "start_time = '2010-01-01'\n",
    "end_time = datetime.today().strftime('%Y-%m-%d')  # Set end_time to today's date\n",
    "frequency = '1d'\n",
    "\n",
    "# Fetch the metric data for the specified asset and time range\n",
    "logging.info(\"Fetching BTC PriceUSD...\")\n",
    "df = client.get_asset_metrics(\n",
    "    assets=asset,\n",
    "    metrics=[metric],\n",
    "    frequency=frequency,\n",
    "    start_time=start_time,\n",
    "    end_time=end_time\n",
    ").to_dataframe()\n",
    "\n",
    "# Rename the 'PriceUSD' column to 'PriceUSD'\n",
    "df = df.rename(columns={metric: 'PriceUSD'})\n",
    "\n",
    "# Set 'time' as the index and normalize to remove the time component but keep it as a DatetimeIndex\n",
    "df['time'] = pd.to_datetime(df['time']).dt.normalize()\n",
    "\n",
    "# Remove timezone information, if any\n",
    "df['time'] = df['time'].dt.tz_localize(None)\n",
    "\n",
    "# Set 'time' as the index\n",
    "df.set_index('time', inplace=True)\n",
    "\n",
    "# Only keep the 'PriceUSD' data\n",
    "btc_df = df[['PriceUSD']]\n",
    "\n",
    "# Display\n",
    "btc_df.info()\n",
    "btc_df"
   ]
  },
  {
   "cell_type": "code",
   "execution_count": 6,
   "id": "b8701eaf-07f5-4c30-a9a6-d346dbaccf48",
   "metadata": {},
   "outputs": [
    {
     "name": "stdout",
     "output_type": "stream",
     "text": [
      "<class 'pandas.core.frame.DataFrame'>\n",
      "RangeIndex: 5307 entries, 0 to 5306\n",
      "Data columns (total 2 columns):\n",
      " #   Column      Non-Null Count  Dtype         \n",
      "---  ------      --------------  -----         \n",
      " 0   time        5307 non-null   datetime64[ns]\n",
      " 1   BTC_Return  5306 non-null   Float64       \n",
      "dtypes: Float64(1), datetime64[ns](1)\n",
      "memory usage: 88.2 KB\n"
     ]
    },
    {
     "data": {
      "text/html": [
       "<div>\n",
       "<style scoped>\n",
       "    .dataframe tbody tr th:only-of-type {\n",
       "        vertical-align: middle;\n",
       "    }\n",
       "\n",
       "    .dataframe tbody tr th {\n",
       "        vertical-align: top;\n",
       "    }\n",
       "\n",
       "    .dataframe thead th {\n",
       "        text-align: right;\n",
       "    }\n",
       "</style>\n",
       "<table border=\"1\" class=\"dataframe\">\n",
       "  <thead>\n",
       "    <tr style=\"text-align: right;\">\n",
       "      <th></th>\n",
       "      <th>time</th>\n",
       "      <th>BTC_Return</th>\n",
       "    </tr>\n",
       "  </thead>\n",
       "  <tbody>\n",
       "    <tr>\n",
       "      <th>0</th>\n",
       "      <td>2010-07-18</td>\n",
       "      <td>&lt;NA&gt;</td>\n",
       "    </tr>\n",
       "    <tr>\n",
       "      <th>1</th>\n",
       "      <td>2010-07-19</td>\n",
       "      <td>-0.058714</td>\n",
       "    </tr>\n",
       "    <tr>\n",
       "      <th>2</th>\n",
       "      <td>2010-07-20</td>\n",
       "      <td>-0.075053</td>\n",
       "    </tr>\n",
       "    <tr>\n",
       "      <th>3</th>\n",
       "      <td>2010-07-21</td>\n",
       "      <td>0.059639</td>\n",
       "    </tr>\n",
       "    <tr>\n",
       "      <th>4</th>\n",
       "      <td>2010-07-22</td>\n",
       "      <td>-0.261679</td>\n",
       "    </tr>\n",
       "    <tr>\n",
       "      <th>...</th>\n",
       "      <td>...</td>\n",
       "      <td>...</td>\n",
       "    </tr>\n",
       "    <tr>\n",
       "      <th>5302</th>\n",
       "      <td>2025-01-22</td>\n",
       "      <td>-0.020727</td>\n",
       "    </tr>\n",
       "    <tr>\n",
       "      <th>5303</th>\n",
       "      <td>2025-01-23</td>\n",
       "      <td>0.003791</td>\n",
       "    </tr>\n",
       "    <tr>\n",
       "      <th>5304</th>\n",
       "      <td>2025-01-24</td>\n",
       "      <td>0.005102</td>\n",
       "    </tr>\n",
       "    <tr>\n",
       "      <th>5305</th>\n",
       "      <td>2025-01-25</td>\n",
       "      <td>0.001432</td>\n",
       "    </tr>\n",
       "    <tr>\n",
       "      <th>5306</th>\n",
       "      <td>2025-01-26</td>\n",
       "      <td>-0.019384</td>\n",
       "    </tr>\n",
       "  </tbody>\n",
       "</table>\n",
       "<p>5307 rows × 2 columns</p>\n",
       "</div>"
      ],
      "text/plain": [
       "           time  BTC_Return\n",
       "0    2010-07-18        <NA>\n",
       "1    2010-07-19   -0.058714\n",
       "2    2010-07-20   -0.075053\n",
       "3    2010-07-21    0.059639\n",
       "4    2010-07-22   -0.261679\n",
       "...         ...         ...\n",
       "5302 2025-01-22   -0.020727\n",
       "5303 2025-01-23    0.003791\n",
       "5304 2025-01-24    0.005102\n",
       "5305 2025-01-25    0.001432\n",
       "5306 2025-01-26   -0.019384\n",
       "\n",
       "[5307 rows x 2 columns]"
      ]
     },
     "execution_count": 6,
     "metadata": {},
     "output_type": "execute_result"
    }
   ],
   "source": [
    "# Calculate Bitcoin daily returns\n",
    "btc_df['BTC_Return'] = btc_df['PriceUSD'].pct_change()\n",
    "\n",
    "# Select relevant columns and reset index for merging\n",
    "btc_returns_df = btc_df[['BTC_Return']]\n",
    "btc_returns_df = btc_returns_df.reset_index()\n",
    "btc_returns_df.info()\n",
    "btc_returns_df"
   ]
  },
  {
   "cell_type": "markdown",
   "id": "95acd108-63d3-4e02-aca1-3dd9686a5429",
   "metadata": {},
   "source": [
    "## Get S&P 500"
   ]
  },
  {
   "cell_type": "code",
   "execution_count": 8,
   "id": "6379e26a-4ce9-4a70-b85a-57c510ea01ef",
   "metadata": {},
   "outputs": [
    {
     "name": "stdout",
     "output_type": "stream",
     "text": [
      "<class 'pandas.core.frame.DataFrame'>\n",
      "RangeIndex: 3655 entries, 0 to 3654\n",
      "Data columns (total 2 columns):\n",
      " #   Column     Non-Null Count  Dtype         \n",
      "---  ------     --------------  -----         \n",
      " 0   time       3655 non-null   datetime64[ns]\n",
      " 1   SP_Return  3654 non-null   float64       \n",
      "dtypes: datetime64[ns](1), float64(1)\n",
      "memory usage: 57.2 KB\n"
     ]
    },
    {
     "data": {
      "text/html": [
       "<div>\n",
       "<style scoped>\n",
       "    .dataframe tbody tr th:only-of-type {\n",
       "        vertical-align: middle;\n",
       "    }\n",
       "\n",
       "    .dataframe tbody tr th {\n",
       "        vertical-align: top;\n",
       "    }\n",
       "\n",
       "    .dataframe thead th {\n",
       "        text-align: right;\n",
       "    }\n",
       "</style>\n",
       "<table border=\"1\" class=\"dataframe\">\n",
       "  <thead>\n",
       "    <tr style=\"text-align: right;\">\n",
       "      <th></th>\n",
       "      <th>time</th>\n",
       "      <th>SP_Return</th>\n",
       "    </tr>\n",
       "  </thead>\n",
       "  <tbody>\n",
       "    <tr>\n",
       "      <th>0</th>\n",
       "      <td>2010-07-19</td>\n",
       "      <td>NaN</td>\n",
       "    </tr>\n",
       "    <tr>\n",
       "      <th>1</th>\n",
       "      <td>2010-07-20</td>\n",
       "      <td>0.011417</td>\n",
       "    </tr>\n",
       "    <tr>\n",
       "      <th>2</th>\n",
       "      <td>2010-07-21</td>\n",
       "      <td>-0.012820</td>\n",
       "    </tr>\n",
       "    <tr>\n",
       "      <th>3</th>\n",
       "      <td>2010-07-22</td>\n",
       "      <td>0.022513</td>\n",
       "    </tr>\n",
       "    <tr>\n",
       "      <th>4</th>\n",
       "      <td>2010-07-23</td>\n",
       "      <td>0.008220</td>\n",
       "    </tr>\n",
       "    <tr>\n",
       "      <th>...</th>\n",
       "      <td>...</td>\n",
       "      <td>...</td>\n",
       "    </tr>\n",
       "    <tr>\n",
       "      <th>3650</th>\n",
       "      <td>2025-01-21</td>\n",
       "      <td>0.008768</td>\n",
       "    </tr>\n",
       "    <tr>\n",
       "      <th>3651</th>\n",
       "      <td>2025-01-22</td>\n",
       "      <td>0.006138</td>\n",
       "    </tr>\n",
       "    <tr>\n",
       "      <th>3652</th>\n",
       "      <td>2025-01-23</td>\n",
       "      <td>0.005313</td>\n",
       "    </tr>\n",
       "    <tr>\n",
       "      <th>3653</th>\n",
       "      <td>2025-01-24</td>\n",
       "      <td>-0.002855</td>\n",
       "    </tr>\n",
       "    <tr>\n",
       "      <th>3654</th>\n",
       "      <td>2025-01-27</td>\n",
       "      <td>-0.018568</td>\n",
       "    </tr>\n",
       "  </tbody>\n",
       "</table>\n",
       "<p>3655 rows × 2 columns</p>\n",
       "</div>"
      ],
      "text/plain": [
       "           time  SP_Return\n",
       "0    2010-07-19        NaN\n",
       "1    2010-07-20   0.011417\n",
       "2    2010-07-21  -0.012820\n",
       "3    2010-07-22   0.022513\n",
       "4    2010-07-23   0.008220\n",
       "...         ...        ...\n",
       "3650 2025-01-21   0.008768\n",
       "3651 2025-01-22   0.006138\n",
       "3652 2025-01-23   0.005313\n",
       "3653 2025-01-24  -0.002855\n",
       "3654 2025-01-27  -0.018568\n",
       "\n",
       "[3655 rows x 2 columns]"
      ]
     },
     "execution_count": 8,
     "metadata": {},
     "output_type": "execute_result"
    }
   ],
   "source": [
    "# Fetch S&P 500 data\n",
    "sp_data = yf.download('^GSPC', start='2010-07-18', progress=False)\n",
    "sp_data['SP_Return'] = sp_data['Adj Close'].pct_change()\n",
    "\n",
    "# Select relevant columns and reset index for merging\n",
    "sp_df = sp_data[['SP_Return']].reset_index()\n",
    "\n",
    "# Rename the Date column to match the Bitcoin data index\n",
    "sp_df.rename(columns={'Date': 'time'}, inplace=True)\n",
    "\n",
    "# Display the DataFrame information and content\n",
    "sp_df.info()\n",
    "sp_df"
   ]
  },
  {
   "cell_type": "markdown",
   "id": "40094faa-7b28-42e2-aff0-64919e08a554",
   "metadata": {},
   "source": [
    "## Get Nasdaq-100"
   ]
  },
  {
   "cell_type": "code",
   "execution_count": 10,
   "id": "a57f2218-e976-4096-b882-642543cfff49",
   "metadata": {},
   "outputs": [
    {
     "name": "stdout",
     "output_type": "stream",
     "text": [
      "<class 'pandas.core.frame.DataFrame'>\n",
      "RangeIndex: 3655 entries, 0 to 3654\n",
      "Data columns (total 2 columns):\n",
      " #   Column      Non-Null Count  Dtype         \n",
      "---  ------      --------------  -----         \n",
      " 0   time        3655 non-null   datetime64[ns]\n",
      " 1   NDX_Return  3654 non-null   float64       \n",
      "dtypes: datetime64[ns](1), float64(1)\n",
      "memory usage: 57.2 KB\n"
     ]
    },
    {
     "data": {
      "text/html": [
       "<div>\n",
       "<style scoped>\n",
       "    .dataframe tbody tr th:only-of-type {\n",
       "        vertical-align: middle;\n",
       "    }\n",
       "\n",
       "    .dataframe tbody tr th {\n",
       "        vertical-align: top;\n",
       "    }\n",
       "\n",
       "    .dataframe thead th {\n",
       "        text-align: right;\n",
       "    }\n",
       "</style>\n",
       "<table border=\"1\" class=\"dataframe\">\n",
       "  <thead>\n",
       "    <tr style=\"text-align: right;\">\n",
       "      <th></th>\n",
       "      <th>time</th>\n",
       "      <th>NDX_Return</th>\n",
       "    </tr>\n",
       "  </thead>\n",
       "  <tbody>\n",
       "    <tr>\n",
       "      <th>0</th>\n",
       "      <td>2010-07-19</td>\n",
       "      <td>NaN</td>\n",
       "    </tr>\n",
       "    <tr>\n",
       "      <th>1</th>\n",
       "      <td>2010-07-20</td>\n",
       "      <td>0.011757</td>\n",
       "    </tr>\n",
       "    <tr>\n",
       "      <th>2</th>\n",
       "      <td>2010-07-21</td>\n",
       "      <td>-0.012696</td>\n",
       "    </tr>\n",
       "    <tr>\n",
       "      <th>3</th>\n",
       "      <td>2010-07-22</td>\n",
       "      <td>0.025202</td>\n",
       "    </tr>\n",
       "    <tr>\n",
       "      <th>4</th>\n",
       "      <td>2010-07-23</td>\n",
       "      <td>0.006591</td>\n",
       "    </tr>\n",
       "    <tr>\n",
       "      <th>...</th>\n",
       "      <td>...</td>\n",
       "      <td>...</td>\n",
       "    </tr>\n",
       "    <tr>\n",
       "      <th>3650</th>\n",
       "      <td>2025-01-21</td>\n",
       "      <td>0.005846</td>\n",
       "    </tr>\n",
       "    <tr>\n",
       "      <th>3651</th>\n",
       "      <td>2025-01-22</td>\n",
       "      <td>0.013284</td>\n",
       "    </tr>\n",
       "    <tr>\n",
       "      <th>3652</th>\n",
       "      <td>2025-01-23</td>\n",
       "      <td>0.002193</td>\n",
       "    </tr>\n",
       "    <tr>\n",
       "      <th>3653</th>\n",
       "      <td>2025-01-24</td>\n",
       "      <td>-0.005795</td>\n",
       "    </tr>\n",
       "    <tr>\n",
       "      <th>3654</th>\n",
       "      <td>2025-01-27</td>\n",
       "      <td>-0.031593</td>\n",
       "    </tr>\n",
       "  </tbody>\n",
       "</table>\n",
       "<p>3655 rows × 2 columns</p>\n",
       "</div>"
      ],
      "text/plain": [
       "           time  NDX_Return\n",
       "0    2010-07-19         NaN\n",
       "1    2010-07-20    0.011757\n",
       "2    2010-07-21   -0.012696\n",
       "3    2010-07-22    0.025202\n",
       "4    2010-07-23    0.006591\n",
       "...         ...         ...\n",
       "3650 2025-01-21    0.005846\n",
       "3651 2025-01-22    0.013284\n",
       "3652 2025-01-23    0.002193\n",
       "3653 2025-01-24   -0.005795\n",
       "3654 2025-01-27   -0.031593\n",
       "\n",
       "[3655 rows x 2 columns]"
      ]
     },
     "execution_count": 10,
     "metadata": {},
     "output_type": "execute_result"
    }
   ],
   "source": [
    "# Fetch Nasdaq-100 Index (NDX) data\n",
    "ndx_data = yf.download('^NDX', start='2010-07-18', progress=False)\n",
    "ndx_data['NDX_Return'] = ndx_data['Adj Close'].pct_change()\n",
    "\n",
    "# Select relevant columns and reset index for merging\n",
    "ndx_df = ndx_data[['NDX_Return']].reset_index()\n",
    "\n",
    "# Rename the Date column to match the Bitcoin data index\n",
    "ndx_df.rename(columns={'Date': 'time'}, inplace=True)\n",
    "\n",
    "# Display information about the dataframe\n",
    "ndx_df.info()\n",
    "\n",
    "# Print the first few rows of the data\n",
    "ndx_df"
   ]
  },
  {
   "cell_type": "code",
   "execution_count": 11,
   "id": "06820473-3524-4939-a4c5-643a90f080b0",
   "metadata": {},
   "outputs": [
    {
     "name": "stdout",
     "output_type": "stream",
     "text": [
      "<class 'pandas.core.frame.DataFrame'>\n",
      "DatetimeIndex: 3653 entries, 2010-07-20 to 2025-01-24\n",
      "Data columns (total 3 columns):\n",
      " #   Column      Non-Null Count  Dtype  \n",
      "---  ------      --------------  -----  \n",
      " 0   BTC_Return  3653 non-null   float64\n",
      " 1   SP_Return   3653 non-null   float64\n",
      " 2   NDX_Return  3653 non-null   float64\n",
      "dtypes: float64(3)\n",
      "memory usage: 114.2 KB\n"
     ]
    },
    {
     "data": {
      "text/html": [
       "<div>\n",
       "<style scoped>\n",
       "    .dataframe tbody tr th:only-of-type {\n",
       "        vertical-align: middle;\n",
       "    }\n",
       "\n",
       "    .dataframe tbody tr th {\n",
       "        vertical-align: top;\n",
       "    }\n",
       "\n",
       "    .dataframe thead th {\n",
       "        text-align: right;\n",
       "    }\n",
       "</style>\n",
       "<table border=\"1\" class=\"dataframe\">\n",
       "  <thead>\n",
       "    <tr style=\"text-align: right;\">\n",
       "      <th></th>\n",
       "      <th>BTC_Return</th>\n",
       "      <th>SP_Return</th>\n",
       "      <th>NDX_Return</th>\n",
       "    </tr>\n",
       "    <tr>\n",
       "      <th>time</th>\n",
       "      <th></th>\n",
       "      <th></th>\n",
       "      <th></th>\n",
       "    </tr>\n",
       "  </thead>\n",
       "  <tbody>\n",
       "    <tr>\n",
       "      <th>2010-07-20</th>\n",
       "      <td>-0.075053</td>\n",
       "      <td>0.011417</td>\n",
       "      <td>0.011757</td>\n",
       "    </tr>\n",
       "    <tr>\n",
       "      <th>2010-07-21</th>\n",
       "      <td>0.059639</td>\n",
       "      <td>-0.012820</td>\n",
       "      <td>-0.012696</td>\n",
       "    </tr>\n",
       "    <tr>\n",
       "      <th>2010-07-22</th>\n",
       "      <td>-0.261679</td>\n",
       "      <td>0.022513</td>\n",
       "      <td>0.025202</td>\n",
       "    </tr>\n",
       "    <tr>\n",
       "      <th>2010-07-23</th>\n",
       "      <td>0.036311</td>\n",
       "      <td>0.008220</td>\n",
       "      <td>0.006591</td>\n",
       "    </tr>\n",
       "    <tr>\n",
       "      <th>2010-07-26</th>\n",
       "      <td>0.108020</td>\n",
       "      <td>0.011200</td>\n",
       "      <td>0.008009</td>\n",
       "    </tr>\n",
       "    <tr>\n",
       "      <th>...</th>\n",
       "      <td>...</td>\n",
       "      <td>...</td>\n",
       "      <td>...</td>\n",
       "    </tr>\n",
       "    <tr>\n",
       "      <th>2025-01-17</th>\n",
       "      <td>0.043198</td>\n",
       "      <td>0.009991</td>\n",
       "      <td>0.016590</td>\n",
       "    </tr>\n",
       "    <tr>\n",
       "      <th>2025-01-21</th>\n",
       "      <td>0.033131</td>\n",
       "      <td>0.008768</td>\n",
       "      <td>0.005846</td>\n",
       "    </tr>\n",
       "    <tr>\n",
       "      <th>2025-01-22</th>\n",
       "      <td>-0.020727</td>\n",
       "      <td>0.006138</td>\n",
       "      <td>0.013284</td>\n",
       "    </tr>\n",
       "    <tr>\n",
       "      <th>2025-01-23</th>\n",
       "      <td>0.003791</td>\n",
       "      <td>0.005313</td>\n",
       "      <td>0.002193</td>\n",
       "    </tr>\n",
       "    <tr>\n",
       "      <th>2025-01-24</th>\n",
       "      <td>0.005102</td>\n",
       "      <td>-0.002855</td>\n",
       "      <td>-0.005795</td>\n",
       "    </tr>\n",
       "  </tbody>\n",
       "</table>\n",
       "<p>3653 rows × 3 columns</p>\n",
       "</div>"
      ],
      "text/plain": [
       "            BTC_Return  SP_Return  NDX_Return\n",
       "time                                         \n",
       "2010-07-20   -0.075053   0.011417    0.011757\n",
       "2010-07-21    0.059639  -0.012820   -0.012696\n",
       "2010-07-22   -0.261679   0.022513    0.025202\n",
       "2010-07-23    0.036311   0.008220    0.006591\n",
       "2010-07-26    0.108020   0.011200    0.008009\n",
       "...                ...        ...         ...\n",
       "2025-01-17    0.043198   0.009991    0.016590\n",
       "2025-01-21    0.033131   0.008768    0.005846\n",
       "2025-01-22   -0.020727   0.006138    0.013284\n",
       "2025-01-23    0.003791   0.005313    0.002193\n",
       "2025-01-24    0.005102  -0.002855   -0.005795\n",
       "\n",
       "[3653 rows x 3 columns]"
      ]
     },
     "execution_count": 11,
     "metadata": {},
     "output_type": "execute_result"
    }
   ],
   "source": [
    "# Merge Bitcoin, S&P 500, and Nasdaq-100 returns on the 'time' column\n",
    "combined_returns_df = (\n",
    "    btc_df[['BTC_Return']]\n",
    "    .join(sp_df.set_index('time'), how='inner')\n",
    "    .join(ndx_df.set_index('time'), how='inner')\n",
    ")\n",
    "\n",
    "# Drop NaN values\n",
    "returns_df = combined_returns_df.dropna()\n",
    "\n",
    "returns_df = returns_df.astype('float64')\n",
    "\n",
    "# Display information about the resulting DataFrame\n",
    "returns_df.info()\n",
    "\n",
    "# Show the first few rows of the data\n",
    "returns_df"
   ]
  },
  {
   "cell_type": "markdown",
   "id": "0d534441-f3ee-4b81-a739-58ed68008f93",
   "metadata": {},
   "source": [
    "# Statistical Checks"
   ]
  },
  {
   "cell_type": "code",
   "execution_count": 13,
   "id": "cf7bd953-b0e4-4db2-b0bf-54631d4f2c1a",
   "metadata": {},
   "outputs": [],
   "source": [
    "def analyze_series(df, column):\n",
    "    \"\"\"\n",
    "    Perform stationarity and autocorrelation tests on a given time series.\n",
    "    \n",
    "    Parameters:\n",
    "    - df (pd.DataFrame): The input DataFrame containing the time series.\n",
    "    - column (str): The column name of the series to analyze.\n",
    "    \n",
    "    Returns:\n",
    "    - dict: A dictionary containing ADF and Durbin-Watson test results.\n",
    "    \"\"\"\n",
    "    results = {}\n",
    "\n",
    "    # Perform Augmented Dickey-Fuller (ADF) test\n",
    "    adf_result = adfuller(df[column])\n",
    "    adf_statistic, p_value = adf_result[0], adf_result[1]\n",
    "    results['ADF Statistic'] = adf_statistic\n",
    "    results['p-value'] = p_value\n",
    "    results['ADF Interpretation'] = (\n",
    "        \"Stationary\" if p_value < 0.05 \n",
    "        else \"Non-stationary\"\n",
    "    )\n",
    "\n",
    "    # Add intercept for regression\n",
    "    df = df.copy()\n",
    "    df['Intercept'] = 1\n",
    "\n",
    "    # Fit a simple linear regression model to obtain residuals\n",
    "    model = sm.OLS(df[column], df[['Intercept']]).fit()\n",
    "\n",
    "    # Perform Durbin-Watson test for autocorrelation\n",
    "    dw_statistic = durbin_watson(model.resid)\n",
    "    results['Durbin-Watson Statistic'] = dw_statistic\n",
    "    if 1.5 < dw_statistic < 2.5:\n",
    "        results['DW Interpretation'] = \"No significant autocorrelation\"\n",
    "    elif dw_statistic <= 1.5:\n",
    "        results['DW Interpretation'] = \"Positive autocorrelation detected\"\n",
    "    else:\n",
    "        results['DW Interpretation'] = \"Negative autocorrelation detected\"\n",
    "\n",
    "    return results"
   ]
  },
  {
   "cell_type": "markdown",
   "id": "93c8f497-3cba-48f9-b1df-adb8c78fb0df",
   "metadata": {},
   "source": [
    "## Bitcoin Series "
   ]
  },
  {
   "cell_type": "code",
   "execution_count": 15,
   "id": "247d5275-f3e9-43e4-ab9e-5e1bb1b4dde9",
   "metadata": {},
   "outputs": [
    {
     "data": {
      "text/plain": [
       "{'ADF Statistic': -9.985210558850058,\n",
       " 'p-value': 2.0641426748886218e-17,\n",
       " 'ADF Interpretation': 'Stationary',\n",
       " 'Durbin-Watson Statistic': 1.9657605773768414,\n",
       " 'DW Interpretation': 'No significant autocorrelation'}"
      ]
     },
     "execution_count": 15,
     "metadata": {},
     "output_type": "execute_result"
    }
   ],
   "source": [
    "# all historical data \n",
    "df = returns_df\n",
    "all_btc_result = analyze_series(df, 'BTC_Return')\n",
    "all_btc_result"
   ]
  },
  {
   "cell_type": "code",
   "execution_count": 16,
   "id": "826b070e-3ebf-4929-86ce-0b86e4958c7a",
   "metadata": {},
   "outputs": [
    {
     "data": {
      "text/plain": [
       "{'ADF Statistic': -24.716714761558226,\n",
       " 'p-value': 0.0,\n",
       " 'ADF Interpretation': 'Stationary',\n",
       " 'Durbin-Watson Statistic': 2.0464175061768115,\n",
       " 'DW Interpretation': 'No significant autocorrelation'}"
      ]
     },
     "execution_count": 16,
     "metadata": {},
     "output_type": "execute_result"
    }
   ],
   "source": [
    "# last 8 years \n",
    "df = returns_df.loc['2017-01-01':]\n",
    "recent_btc_result = analyze_series(df, 'BTC_Return')\n",
    "recent_btc_result"
   ]
  },
  {
   "cell_type": "code",
   "execution_count": 17,
   "id": "c768cab1-7f8d-41bc-8a50-54ff992c253c",
   "metadata": {},
   "outputs": [
    {
     "data": {
      "text/plain": [
       "{'ADF Statistic': -28.219475138760878,\n",
       " 'p-value': 0.0,\n",
       " 'ADF Interpretation': 'Stationary',\n",
       " 'Durbin-Watson Statistic': 2.0391077090595737,\n",
       " 'DW Interpretation': 'No significant autocorrelation'}"
      ]
     },
     "execution_count": 17,
     "metadata": {},
     "output_type": "execute_result"
    }
   ],
   "source": [
    "# post covid \n",
    "df = returns_df.loc['2022-01-01':]\n",
    "post_covid_btc_result = analyze_series(df, 'BTC_Return')\n",
    "post_covid_btc_result"
   ]
  },
  {
   "cell_type": "markdown",
   "id": "6a60f85c-974c-4162-a051-d970e7fcc8ed",
   "metadata": {},
   "source": [
    "## S&P 500 Series"
   ]
  },
  {
   "cell_type": "code",
   "execution_count": 19,
   "id": "e7a011a5-208d-48ef-9f15-d9f030ede68d",
   "metadata": {},
   "outputs": [
    {
     "data": {
      "text/plain": [
       "{'ADF Statistic': -13.295554718769923,\n",
       " 'p-value': 7.2180176152521115e-25,\n",
       " 'ADF Interpretation': 'Stationary',\n",
       " 'Durbin-Watson Statistic': 2.239416551036116,\n",
       " 'DW Interpretation': 'No significant autocorrelation'}"
      ]
     },
     "execution_count": 19,
     "metadata": {},
     "output_type": "execute_result"
    }
   ],
   "source": [
    "# all historical data \n",
    "df = returns_df\n",
    "all_sp_result = analyze_series(df, 'SP_Return')\n",
    "all_sp_result"
   ]
  },
  {
   "cell_type": "code",
   "execution_count": 20,
   "id": "03e31a93-f6db-43d4-add9-539fefa7b4d8",
   "metadata": {},
   "outputs": [
    {
     "data": {
      "text/plain": [
       "{'ADF Statistic': -13.905994278671862,\n",
       " 'p-value': 5.621714248820688e-26,\n",
       " 'ADF Interpretation': 'Stationary',\n",
       " 'Durbin-Watson Statistic': 2.3105141022856417,\n",
       " 'DW Interpretation': 'No significant autocorrelation'}"
      ]
     },
     "execution_count": 20,
     "metadata": {},
     "output_type": "execute_result"
    }
   ],
   "source": [
    "# last 8 years \n",
    "df = returns_df.loc['2017-01-01':]\n",
    "recent_sp_result = analyze_series(df, 'SP_Return')\n",
    "recent_sp_result"
   ]
  },
  {
   "cell_type": "code",
   "execution_count": 21,
   "id": "a29e3d1d-d295-40d9-ad86-850b1a2d9968",
   "metadata": {},
   "outputs": [
    {
     "data": {
      "text/plain": [
       "{'ADF Statistic': -27.092568988684118,\n",
       " 'p-value': 0.0,\n",
       " 'ADF Interpretation': 'Stationary',\n",
       " 'Durbin-Watson Statistic': 1.957876831859665,\n",
       " 'DW Interpretation': 'No significant autocorrelation'}"
      ]
     },
     "execution_count": 21,
     "metadata": {},
     "output_type": "execute_result"
    }
   ],
   "source": [
    "# post covid \n",
    "df = returns_df.loc['2022-01-01':]\n",
    "post_covid_sp_result = analyze_series(df, 'SP_Return')\n",
    "post_covid_sp_result"
   ]
  },
  {
   "cell_type": "markdown",
   "id": "5ed16112-ee81-4897-b4c3-15884548f332",
   "metadata": {},
   "source": [
    "## Nasdaq-100 Series"
   ]
  },
  {
   "cell_type": "code",
   "execution_count": 23,
   "id": "a3c89e8b-6f4f-408a-8dc4-60421eb0bf1c",
   "metadata": {},
   "outputs": [
    {
     "data": {
      "text/plain": [
       "{'ADF Statistic': -13.599761469274013,\n",
       " 'p-value': 1.9634338891585254e-25,\n",
       " 'ADF Interpretation': 'Stationary',\n",
       " 'Durbin-Watson Statistic': 2.2079967035091,\n",
       " 'DW Interpretation': 'No significant autocorrelation'}"
      ]
     },
     "execution_count": 23,
     "metadata": {},
     "output_type": "execute_result"
    }
   ],
   "source": [
    "# all historical data \n",
    "df = returns_df\n",
    "all_ndx_result = analyze_series(df, 'NDX_Return')\n",
    "all_ndx_result"
   ]
  },
  {
   "cell_type": "code",
   "execution_count": 24,
   "id": "4dd3e488-30be-4746-9f19-957067ae6d1b",
   "metadata": {},
   "outputs": [
    {
     "data": {
      "text/plain": [
       "{'ADF Statistic': -14.413666562299952,\n",
       " 'p-value': 8.126017507501465e-27,\n",
       " 'ADF Interpretation': 'Stationary',\n",
       " 'Durbin-Watson Statistic': 2.2862369430999037,\n",
       " 'DW Interpretation': 'No significant autocorrelation'}"
      ]
     },
     "execution_count": 24,
     "metadata": {},
     "output_type": "execute_result"
    }
   ],
   "source": [
    "# last 8 years \n",
    "df = returns_df.loc['2017-01-01':]\n",
    "recent_ndx_result = analyze_series(df, 'NDX_Return')\n",
    "recent_ndx_result"
   ]
  },
  {
   "cell_type": "code",
   "execution_count": 25,
   "id": "515e7093-ea81-4645-a3ce-2b83f7af33c9",
   "metadata": {},
   "outputs": [
    {
     "data": {
      "text/plain": [
       "{'ADF Statistic': -17.304848457535744,\n",
       " 'p-value': 5.60004897141409e-30,\n",
       " 'ADF Interpretation': 'Stationary',\n",
       " 'Durbin-Watson Statistic': 2.020329512819535,\n",
       " 'DW Interpretation': 'No significant autocorrelation'}"
      ]
     },
     "execution_count": 25,
     "metadata": {},
     "output_type": "execute_result"
    }
   ],
   "source": [
    "# post covid \n",
    "df = returns_df.loc['2022-01-01':]\n",
    "post_covid_ndx_result = analyze_series(df, 'NDX_Return')\n",
    "post_covid_ndx_result"
   ]
  },
  {
   "cell_type": "markdown",
   "id": "0981dd14-7296-4809-90c6-3316ec87f5ac",
   "metadata": {},
   "source": [
    "# Beta "
   ]
  },
  {
   "cell_type": "code",
   "execution_count": 27,
   "id": "21ff42b3-b5c1-4594-9ae7-e7d93ad43fc9",
   "metadata": {},
   "outputs": [],
   "source": [
    "def calculate_betas(df, dependent_col, independent_cols):\n",
    "    \"\"\"\n",
    "    Calculate OLS regression betas for a dependent variable against multiple independent variables.\n",
    "    \n",
    "    Parameters:\n",
    "    - df (pd.DataFrame): DataFrame containing the data.\n",
    "    - dependent_col (str): Column name for the dependent variable.\n",
    "    - independent_cols (list): List of column names for the independent variables.\n",
    "    \n",
    "    Returns:\n",
    "    - dict: A dictionary with independent variable names as keys and their beta values as values.\n",
    "    \"\"\"\n",
    "    betas = {}\n",
    "    y = df[dependent_col]\n",
    "\n",
    "    for col in independent_cols:\n",
    "        # Add constant (intercept) to the independent variable\n",
    "        X = sm.add_constant(df[col])\n",
    "        \n",
    "        # Fit OLS model\n",
    "        model = sm.OLS(y, X).fit()\n",
    "        \n",
    "        # Extract and store the beta value for the independent variable\n",
    "        betas[col] = round(model.params[col], 2)\n",
    "    \n",
    "    return betas"
   ]
  },
  {
   "cell_type": "code",
   "execution_count": 28,
   "id": "0b3c63bc-8bbb-4aa3-b593-0c07fe73782f",
   "metadata": {},
   "outputs": [
    {
     "name": "stdout",
     "output_type": "stream",
     "text": [
      "Entire historical data Beta values: {'SP_Return': 0.66, 'NDX_Return': 0.56}\n"
     ]
    }
   ],
   "source": [
    "# all historical data \n",
    "df = returns_df\n",
    "betas = calculate_betas(df, 'BTC_Return', ['SP_Return', 'NDX_Return'])\n",
    "print(\"Entire historical data Beta values:\", betas)"
   ]
  },
  {
   "cell_type": "code",
   "execution_count": 29,
   "id": "4995ebb9-7bd1-478f-b2d4-7f1e1ca4d161",
   "metadata": {},
   "outputs": [
    {
     "name": "stdout",
     "output_type": "stream",
     "text": [
      "Last 8 years Beta values: {'SP_Return': 0.94, 'NDX_Return': 0.78}\n"
     ]
    }
   ],
   "source": [
    "# last 8 years \n",
    "df = returns_df.loc['2017-01-01':]\n",
    "betas = calculate_betas(df, 'BTC_Return', ['SP_Return', 'NDX_Return'])\n",
    "print(\"Last 8 years Beta values:\", betas)"
   ]
  },
  {
   "cell_type": "code",
   "execution_count": 30,
   "id": "c5338766-aff3-48e4-b05b-10e00e0b3fa3",
   "metadata": {},
   "outputs": [
    {
     "name": "stdout",
     "output_type": "stream",
     "text": [
      "Post Covid Beta values: {'SP_Return': 1.28, 'NDX_Return': 0.94}\n"
     ]
    }
   ],
   "source": [
    "# post covid \n",
    "df = returns_df.loc['2022-01-01':]\n",
    "betas = calculate_betas(df, 'BTC_Return', ['SP_Return', 'NDX_Return'])\n",
    "print(\"Post Covid Beta values:\", betas)"
   ]
  }
 ],
 "metadata": {
  "kernelspec": {
   "display_name": "Python 3 (ipykernel)",
   "language": "python",
   "name": "python3"
  },
  "language_info": {
   "codemirror_mode": {
    "name": "ipython",
    "version": 3
   },
   "file_extension": ".py",
   "mimetype": "text/x-python",
   "name": "python",
   "nbconvert_exporter": "python",
   "pygments_lexer": "ipython3",
   "version": "3.11.7"
  }
 },
 "nbformat": 4,
 "nbformat_minor": 5
}
